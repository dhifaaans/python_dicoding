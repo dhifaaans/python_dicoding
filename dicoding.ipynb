{
 "cells": [
  {
   "cell_type": "code",
   "execution_count": 1,
   "metadata": {},
   "outputs": [
    {
     "name": "stdout",
     "output_type": "stream",
     "text": [
      "6\n",
      "9\n",
      "27\n"
     ]
    }
   ],
   "source": [
    "# Dicoding Notebook by Nadhifa Sofia\n",
    "# Script\n",
    "print(3+3)\n",
    "print(3*3)\n",
    "print(3**3)"
   ]
  },
  {
   "cell_type": "code",
   "execution_count": null,
   "metadata": {},
   "outputs": [],
   "source": [
    "# Indentation\n",
    "foo = long_function_name(var_one,\n",
    "                        var_two,\n",
    "                        var_three,\n",
    "                        var_four)"
   ]
  },
  {
   "cell_type": "code",
   "execution_count": 3,
   "metadata": {},
   "outputs": [
    {
     "name": "stdout",
     "output_type": "stream",
     "text": [
      "5 is of type <class 'int'>\n",
      "2.0 is of type <class 'float'>\n",
      "(1+2j) is complex number? True\n"
     ]
    }
   ],
   "source": [
    "# Numbers\n",
    "a = 5\n",
    "print(a, \"is of type\", type(a))\n",
    "a = 2.0\n",
    "print(a, \"is of type\", type(a))\n",
    "a = 1+2j\n",
    "print(a, \"is complex number?\", isinstance(1+2j,complex))"
   ]
  },
  {
   "cell_type": "code",
   "execution_count": 4,
   "metadata": {},
   "outputs": [
    {
     "name": "stdout",
     "output_type": "stream",
     "text": [
      "33644764876431783266621612005107543310302148460680063906564769974680081442166662368155595513633734025582065332680836159373734790483865268263040892463056431887354544369559827491606602099884183933864652731300088830269235673613135117579297437854413752130520504347701602264758318906527890855154366159582987279682987510631200575428783453215515103870818298969791613127856265033195487140214287532698187962046936097879900350962302291026368131493195275630227837628441540360584402572114334961180023091208287046088923962328835461505776583271252546093591128203925285393434620904245248929403901706233888991085841065183173360437470737908552631764325733993712871937587746897479926305837065742830161637408969178426378624212835258112820516370298089332099905707920064367426202389783111470054074998459250360633560933883831923386783056136435351892133279732908133732642652633989763922723407882928177953580570993691049175470808931841056146322338217465637321248226383092103297701648054726243842374862411453093812206564914032751086643394517512161526545361333111314042436854805106765843493523836959653428071768775328348234345557366719731392746273629108210679280784718035329131176778924659089938635459327894523777674406192240337638674004021330343297496902028328145933418826817683893072003634795623117103101291953169794607632737589253530772552375943788434504067715555779056450443016640119462580972216729758615026968443146952034614932291105970676243268515992834709891284706740862008587135016260312071903172086094081298321581077282076353186624611278245537208532365305775956430072517744315051539600905168603220349163222640885248852433158051534849622434848299380905070483482449327453732624567755879089187190803662058009594743150052402532709746995318770724376825907419939632265984147498193609285223945039707165443156421328157688908058783183404917434556270520223564846495196112460268313970975069382648706613264507665074611512677522748621598642530711298441182622661057163515069260029861704945425047491378115154139941550671256271197133252763631939606902895650288268608362241082050562430701794976171121233066073310059947366875\n"
     ]
    }
   ],
   "source": [
    "x=[0]*10005;              # initialize  array of 0 as 10005; x[0]=0\n",
    "x[1]=1;                   # x[1]=1\n",
    " \n",
    "for j in range(2,10001):\n",
    "      x[j]=x[j-1]+x[j-2]  # Fibonacci\n",
    "print(x[10000])"
   ]
  },
  {
   "cell_type": "code",
   "execution_count": 7,
   "metadata": {},
   "outputs": [
    {
     "name": "stdout",
     "output_type": "stream",
     "text": [
      "o\n",
      "World\n"
     ]
    }
   ],
   "source": [
    "# String\n",
    "s = \"Hello World!\"\n",
    "print(s[4])\n",
    "print(s[6:11])"
   ]
  },
  {
   "cell_type": "code",
   "execution_count": 8,
   "metadata": {},
   "outputs": [
    {
     "name": "stdout",
     "output_type": "stream",
     "text": [
      "30\n",
      "40\n",
      "[20, 25]\n",
      "[5, 10, 15, 20, 25]\n",
      "[30, 35, 40]\n",
      "[10, 20, 30]\n"
     ]
    }
   ],
   "source": [
    "# List\n",
    "x = [5,10,15,20,25,30,35,40]\n",
    "print(x[5])\n",
    "print(x[-1])\n",
    "print(x[3:5])\n",
    "print(x[:5])\n",
    "print(x[-3:])\n",
    "print(x[1:7:2])"
   ]
  },
  {
   "cell_type": "code",
   "execution_count": 9,
   "metadata": {},
   "outputs": [
    {
     "data": {
      "text/plain": [
       "[5, 10, 15, 20, 25, 30, 35, 40, 5]"
      ]
     },
     "execution_count": 9,
     "metadata": {},
     "output_type": "execute_result"
    }
   ],
   "source": [
    "x.append(5)\n",
    "x"
   ]
  },
  {
   "cell_type": "code",
   "execution_count": 10,
   "metadata": {},
   "outputs": [
    {
     "data": {
      "text/plain": [
       "['cat', 'bat', 'elephant']"
      ]
     },
     "execution_count": 10,
     "metadata": {},
     "output_type": "execute_result"
    }
   ],
   "source": [
    "spam = ['cat', 'bat', 'rat', 'elephant']\n",
    "del spam[2]\n",
    "spam"
   ]
  },
  {
   "cell_type": "code",
   "execution_count": 12,
   "metadata": {},
   "outputs": [
    {
     "data": {
      "text/plain": [
       "(5, 'program', (1+3j))"
      ]
     },
     "execution_count": 12,
     "metadata": {},
     "output_type": "execute_result"
    }
   ],
   "source": [
    "# Tuple\n",
    "t = (5,'program', 1+3j)\n",
    "t[1]\n",
    "t[0:3]"
   ]
  },
  {
   "cell_type": "code",
   "execution_count": 13,
   "metadata": {},
   "outputs": [
    {
     "data": {
      "text/plain": [
       "{1, 2, 3}"
      ]
     },
     "execution_count": 13,
     "metadata": {},
     "output_type": "execute_result"
    }
   ],
   "source": [
    "# Set\n",
    "a = {1,2,2,3,3,3}\n",
    "a"
   ]
  },
  {
   "cell_type": "code",
   "execution_count": 14,
   "metadata": {},
   "outputs": [
    {
     "name": "stdout",
     "output_type": "stream",
     "text": [
      "<class 'dict'>\n",
      "d[1] =  value\n",
      "d['key'] =  2\n"
     ]
    }
   ],
   "source": [
    "# Dictionary \n",
    "d = {1:'value','key':2}\n",
    "print(type(d))\n",
    "print(\"d[1] = \", d[1]);\n",
    "print(\"d['key'] = \", d['key']);"
   ]
  },
  {
   "cell_type": "code",
   "execution_count": 15,
   "metadata": {},
   "outputs": [
    {
     "data": {
      "text/plain": [
       "5.0"
      ]
     },
     "execution_count": 15,
     "metadata": {},
     "output_type": "execute_result"
    }
   ],
   "source": [
    "# Conversion\n",
    "float(5)"
   ]
  },
  {
   "cell_type": "code",
   "execution_count": 16,
   "metadata": {},
   "outputs": [
    {
     "data": {
      "text/plain": [
       "10"
      ]
     },
     "execution_count": 16,
     "metadata": {},
     "output_type": "execute_result"
    }
   ],
   "source": [
    "int(10.6)"
   ]
  },
  {
   "cell_type": "code",
   "execution_count": 17,
   "metadata": {},
   "outputs": [
    {
     "data": {
      "text/plain": [
       "-10"
      ]
     },
     "execution_count": 17,
     "metadata": {},
     "output_type": "execute_result"
    }
   ],
   "source": [
    "int(-10.6)"
   ]
  },
  {
   "cell_type": "code",
   "execution_count": 18,
   "metadata": {},
   "outputs": [
    {
     "data": {
      "text/plain": [
       "2.5"
      ]
     },
     "execution_count": 18,
     "metadata": {},
     "output_type": "execute_result"
    }
   ],
   "source": [
    "float('2.5')"
   ]
  },
  {
   "cell_type": "code",
   "execution_count": 19,
   "metadata": {},
   "outputs": [
    {
     "data": {
      "text/plain": [
       "'25'"
      ]
     },
     "execution_count": 19,
     "metadata": {},
     "output_type": "execute_result"
    }
   ],
   "source": [
    "str(25)"
   ]
  },
  {
   "cell_type": "code",
   "execution_count": 20,
   "metadata": {},
   "outputs": [
    {
     "data": {
      "text/plain": [
       "{1, 2, 3}"
      ]
     },
     "execution_count": 20,
     "metadata": {},
     "output_type": "execute_result"
    }
   ],
   "source": [
    "set([1,2,3])"
   ]
  },
  {
   "cell_type": "code",
   "execution_count": 21,
   "metadata": {},
   "outputs": [
    {
     "data": {
      "text/plain": [
       "(5, 6, 7)"
      ]
     },
     "execution_count": 21,
     "metadata": {},
     "output_type": "execute_result"
    }
   ],
   "source": [
    "tuple({5,6,7})"
   ]
  },
  {
   "cell_type": "code",
   "execution_count": 22,
   "metadata": {},
   "outputs": [
    {
     "data": {
      "text/plain": [
       "['h', 'e', 'l', 'l', 'o']"
      ]
     },
     "execution_count": 22,
     "metadata": {},
     "output_type": "execute_result"
    }
   ],
   "source": [
    "list('hello')"
   ]
  },
  {
   "cell_type": "code",
   "execution_count": 24,
   "metadata": {},
   "outputs": [
    {
     "data": {
      "text/plain": [
       "{1: 2, 3: 4}"
      ]
     },
     "execution_count": 24,
     "metadata": {},
     "output_type": "execute_result"
    }
   ],
   "source": [
    "dict([[1,2],[3,4]])"
   ]
  },
  {
   "cell_type": "code",
   "execution_count": 25,
   "metadata": {},
   "outputs": [
    {
     "data": {
      "text/plain": [
       "{3: 26, 4: 44}"
      ]
     },
     "execution_count": 25,
     "metadata": {},
     "output_type": "execute_result"
    }
   ],
   "source": [
    "dict([(3,26),(4,44)])"
   ]
  },
  {
   "cell_type": "code",
   "execution_count": 26,
   "metadata": {},
   "outputs": [
    {
     "name": "stdout",
     "output_type": "stream",
     "text": [
      "John is 15 years old.\n"
     ]
    }
   ],
   "source": [
    "# Argument Specifiers\n",
    "name = \"John\"\n",
    "age = 15\n",
    "print(\"%s is %d years old.\" % (name, age))"
   ]
  },
  {
   "cell_type": "code",
   "execution_count": 27,
   "metadata": {},
   "outputs": [
    {
     "name": "stdout",
     "output_type": "stream",
     "text": [
      "A list: [1, 2, 3]\n"
     ]
    }
   ],
   "source": [
    "mylist = [1,2,3]\n",
    "print(\"A list: %s\" % mylist)"
   ]
  },
  {
   "cell_type": "code",
   "execution_count": null,
   "metadata": {},
   "outputs": [],
   "source": [
    "%s - String\n",
    "%d - Integers\n",
    "%f - Bilangan Pecahan\n",
    "%.<digit>f - Bilangan pecahan dengan sejumlah digit angka dibelakang koma.\n",
    "%x/%X - Bilangan bulat dalam representasi Hexa (huruf kecil/huruf besar)"
   ]
  },
  {
   "cell_type": "code",
   "execution_count": 28,
   "metadata": {},
   "outputs": [
    {
     "name": "stdout",
     "output_type": "stream",
     "text": [
      "a: a and b: B\n"
     ]
    }
   ],
   "source": [
    "a, b = 10, 11\n",
    "a, b\n",
    "print('a: %x and b: %X' % (a, b))"
   ]
  },
  {
   "cell_type": "code",
   "execution_count": 29,
   "metadata": {},
   "outputs": [
    {
     "name": "stdout",
     "output_type": "stream",
     "text": [
      "Number of arguments: 3 arguments.\n",
      "Argument List: ['/Users/nadhifasofia/anaconda3/lib/python3.7/site-packages/ipykernel_launcher.py', '-f', '/Users/nadhifasofia/Library/Jupyter/runtime/kernel-1cbefba1-b716-4904-a691-7ce81cc312d0.json']\n",
      "-f\n"
     ]
    }
   ],
   "source": [
    "# Command-line Arguments\n",
    "import sys\n",
    "print('Number of arguments:', len(sys.argv), 'arguments.')\n",
    "print('Argument List:', str(sys.argv))\n",
    "print(sys.argv[1])"
   ]
  },
  {
   "cell_type": "code",
   "execution_count": 31,
   "metadata": {},
   "outputs": [],
   "source": [
    "# Dynamic Typing\n",
    "if False:\n",
    "    1 + \"two\"  # This line never runs, so no TypeError is raised\n",
    "else:\n",
    "    1 + 2"
   ]
  },
  {
   "cell_type": "code",
   "execution_count": 32,
   "metadata": {},
   "outputs": [
    {
     "data": {
      "text/plain": [
       "str"
      ]
     },
     "execution_count": 32,
     "metadata": {},
     "output_type": "execute_result"
    }
   ],
   "source": [
    "thing = \"Hello\"\n",
    "type(thing)"
   ]
  },
  {
   "cell_type": "code",
   "execution_count": 33,
   "metadata": {},
   "outputs": [
    {
     "data": {
      "text/plain": [
       "int"
      ]
     },
     "execution_count": 33,
     "metadata": {},
     "output_type": "execute_result"
    }
   ],
   "source": [
    "# Filler\n",
    "x=1\n",
    "type(x)"
   ]
  },
  {
   "cell_type": "code",
   "execution_count": 34,
   "metadata": {},
   "outputs": [
    {
     "data": {
      "text/plain": [
       "'00001'"
      ]
     },
     "execution_count": 34,
     "metadata": {},
     "output_type": "execute_result"
    }
   ],
   "source": [
    "str(x).zfill(5)"
   ]
  },
  {
   "cell_type": "code",
   "execution_count": 35,
   "metadata": {},
   "outputs": [
    {
     "data": {
      "text/plain": [
       "'HELLO WORLD!'"
      ]
     },
     "execution_count": 35,
     "metadata": {},
     "output_type": "execute_result"
    }
   ],
   "source": [
    "# Chars Transformation\n",
    "p = 'Hello world!'\n",
    "p = p.upper()\n",
    "p"
   ]
  },
  {
   "cell_type": "code",
   "execution_count": 36,
   "metadata": {},
   "outputs": [
    {
     "name": "stdout",
     "output_type": "stream",
     "text": [
      "How are you?not bad\n",
      "I hope the rest of your day is good.\n"
     ]
    }
   ],
   "source": [
    "feeling = input('How are you?')\n",
    "if feeling.lower() == 'great':\n",
    "    print('I feel great too.')\n",
    "else:\n",
    "    print('I hope the rest of your day is good.')"
   ]
  },
  {
   "cell_type": "code",
   "execution_count": 37,
   "metadata": {},
   "outputs": [
    {
     "name": "stdout",
     "output_type": "stream",
     "text": [
      "HELLO\n",
      "hello\n",
      "HELLO\n",
      "hello\n",
      "True\n"
     ]
    }
   ],
   "source": [
    "print('Hello'.upper())\n",
    "print('Hello'.upper().lower())\n",
    "print('Hello'.upper().lower().upper())\n",
    "print('HELLO'.lower())\n",
    "print('HELLO'.lower().islower())"
   ]
  },
  {
   "cell_type": "code",
   "execution_count": 38,
   "metadata": {},
   "outputs": [
    {
     "name": "stdout",
     "output_type": "stream",
     "text": [
      "Enter your age:\n",
      "21\n",
      "Select a new password (letters and numbers only):\n",
      "passwo0rd!\n",
      "Passwords can only have letters and numbers.\n",
      "Select a new password (letters and numbers only):\n",
      "passw0rd\n"
     ]
    }
   ],
   "source": [
    "# isX Checker\n",
    "while True:\n",
    "    print('Enter your age:')\n",
    "    age = input()\n",
    "    if age.isdecimal():\n",
    "        break\n",
    "    print('Please enter a number for your age.')\n",
    "while True:\n",
    "    print('Select a new password (letters and numbers only):')\n",
    "    password = input()\n",
    "    if password.isalnum():\n",
    "        break\n",
    "    print('Passwords can only have letters and numbers.')"
   ]
  },
  {
   "cell_type": "code",
   "execution_count": 41,
   "metadata": {},
   "outputs": [
    {
     "data": {
      "text/plain": [
       "True"
      ]
     },
     "execution_count": 41,
     "metadata": {},
     "output_type": "execute_result"
    }
   ],
   "source": [
    "# Startswith() Endwith()\n",
    "'Hello world!'.startswith('Hello')"
   ]
  },
  {
   "cell_type": "code",
   "execution_count": 42,
   "metadata": {},
   "outputs": [
    {
     "data": {
      "text/plain": [
       "False"
      ]
     },
     "execution_count": 42,
     "metadata": {},
     "output_type": "execute_result"
    }
   ],
   "source": [
    "'abc123'.endswith('12')"
   ]
  },
  {
   "cell_type": "code",
   "execution_count": 39,
   "metadata": {},
   "outputs": [
    {
     "data": {
      "text/plain": [
       "'MyABCnameABCisABCSimon'"
      ]
     },
     "execution_count": 39,
     "metadata": {},
     "output_type": "execute_result"
    }
   ],
   "source": [
    "# Join\n",
    "'ABC'.join(['My', 'name', 'is', 'Simon'])"
   ]
  },
  {
   "cell_type": "code",
   "execution_count": 40,
   "metadata": {},
   "outputs": [
    {
     "data": {
      "text/plain": [
       "['Dear Alice,',\n",
       " 'How have you been? I am fine.',\n",
       " 'There is a container in the fridge',\n",
       " 'that is labeled \"Milk Experiment\".',\n",
       " 'Please do not drink it.',\n",
       " 'Sincerely,',\n",
       " 'Bob']"
      ]
     },
     "execution_count": 40,
     "metadata": {},
     "output_type": "execute_result"
    }
   ],
   "source": [
    "# Split\n",
    "a = '''Dear Alice,\n",
    "How have you been? I am fine.\n",
    "There is a container in the fridge\n",
    "that is labeled \"Milk Experiment\".\n",
    "Please do not drink it.\n",
    "Sincerely,\n",
    "Bob'''\n",
    "a.split('\\n')"
   ]
  },
  {
   "cell_type": "code",
   "execution_count": 43,
   "metadata": {},
   "outputs": [
    {
     "data": {
      "text/plain": [
       "'***************Hello'"
      ]
     },
     "execution_count": 43,
     "metadata": {},
     "output_type": "execute_result"
    }
   ],
   "source": [
    "# Justify\n",
    "'Hello'.rjust(20, '*')"
   ]
  },
  {
   "cell_type": "code",
   "execution_count": 44,
   "metadata": {},
   "outputs": [
    {
     "data": {
      "text/plain": [
       "'Hello---------------'"
      ]
     },
     "execution_count": 44,
     "metadata": {},
     "output_type": "execute_result"
    }
   ],
   "source": [
    "'Hello'.ljust(20, '-')"
   ]
  },
  {
   "cell_type": "code",
   "execution_count": 45,
   "metadata": {},
   "outputs": [
    {
     "data": {
      "text/plain": [
       "'=======Hello========'"
      ]
     },
     "execution_count": 45,
     "metadata": {},
     "output_type": "execute_result"
    }
   ],
   "source": [
    "'Hello'.center(20, '=')"
   ]
  },
  {
   "cell_type": "code",
   "execution_count": 46,
   "metadata": {},
   "outputs": [
    {
     "data": {
      "text/plain": [
       "'Hello World'"
      ]
     },
     "execution_count": 46,
     "metadata": {},
     "output_type": "execute_result"
    }
   ],
   "source": [
    "# Whitespace deletion\n",
    "spam = '    Hello World     '\n",
    "spam.strip()"
   ]
  },
  {
   "cell_type": "code",
   "execution_count": 47,
   "metadata": {},
   "outputs": [
    {
     "data": {
      "text/plain": [
       "'Hello World     '"
      ]
     },
     "execution_count": 47,
     "metadata": {},
     "output_type": "execute_result"
    }
   ],
   "source": [
    "spam.lstrip()"
   ]
  },
  {
   "cell_type": "code",
   "execution_count": 48,
   "metadata": {},
   "outputs": [
    {
     "data": {
      "text/plain": [
       "'    Hello World'"
      ]
     },
     "execution_count": 48,
     "metadata": {},
     "output_type": "execute_result"
    }
   ],
   "source": [
    "spam.rstrip()"
   ]
  },
  {
   "cell_type": "code",
   "execution_count": 49,
   "metadata": {},
   "outputs": [
    {
     "name": "stdout",
     "output_type": "stream",
     "text": [
      "GeeksforGeeks for GeeksforGeeks GeeksforGeeks geeks geeks\n"
     ]
    }
   ],
   "source": [
    "# Replace\n",
    "string = \"geeks for geeks geeks geeks geeks\"\n",
    "print(string.replace(\"geeks\", \"GeeksforGeeks\", 3))"
   ]
  },
  {
   "cell_type": "code",
   "execution_count": 50,
   "metadata": {},
   "outputs": [
    {
     "name": "stdout",
     "output_type": "stream",
     "text": [
      "[1, 2, 3, 3, 4, 4, 4, 4, 5, 6]\n",
      "10\n",
      "{1, 2, 3, 4, 5, 6}\n",
      "6\n",
      "Hello, World\n",
      "12\n"
     ]
    }
   ],
   "source": [
    "l = [1,2,3,3,4,4,4,4,5,6]\n",
    "s = set(l)\n",
    "x = \"Hello, World\"\n",
    " \n",
    "print(l)\n",
    "print(len(l))\n",
    " \n",
    "print(s)\n",
    "print(len(s))\n",
    " \n",
    "print(x)\n",
    "print(len(x))"
   ]
  },
  {
   "cell_type": "code",
   "execution_count": 51,
   "metadata": {},
   "outputs": [
    {
     "data": {
      "text/plain": [
       "[1, 3, 5, 7]"
      ]
     },
     "execution_count": 51,
     "metadata": {},
     "output_type": "execute_result"
    }
   ],
   "source": [
    "# Range\n",
    "[_ for _ in range(1, 9, 2)]  # list comprehension"
   ]
  },
  {
   "cell_type": "code",
   "execution_count": 52,
   "metadata": {},
   "outputs": [
    {
     "data": {
      "text/plain": [
       "False"
      ]
     },
     "execution_count": 52,
     "metadata": {},
     "output_type": "execute_result"
    }
   ],
   "source": [
    "spam = ['hello', 'hi', 'howdy', 'heyas']\n",
    "'cat' in spam"
   ]
  },
  {
   "cell_type": "code",
   "execution_count": 53,
   "metadata": {},
   "outputs": [
    {
     "data": {
      "text/plain": [
       "['Alice', 'Bob', 'Carol', 'ants', 'badgers', 'cats']"
      ]
     },
     "execution_count": 53,
     "metadata": {},
     "output_type": "execute_result"
    }
   ],
   "source": [
    "# Sort\n",
    "m = ['Alice', 'ants', 'Bob', 'badgers', 'Carol', 'cats']\n",
    "m.sort()\n",
    "m"
   ]
  },
  {
   "cell_type": "code",
   "execution_count": 56,
   "metadata": {},
   "outputs": [
    {
     "name": "stdout",
     "output_type": "stream",
     "text": [
      "a = 1\n",
      "b = 5.0\n",
      "lt(a, b): True\n",
      "le(a, b): True\n",
      "eq(a, b): False\n",
      "ne(a, b): True\n",
      "ge(a, b): False\n",
      "gt(a, b): False\n"
     ]
    }
   ],
   "source": [
    "# Expressions\n",
    "from operator import *\n",
    "a = 1\n",
    "b = 5.0\n",
    "print ('a =', a)\n",
    "print ('b =', b)\n",
    "for func in (lt, le, eq, ne, ge, gt):\n",
    "    print ('%s(a, b):' % func.__name__, func(a, b))"
   ]
  },
  {
   "cell_type": "code",
   "execution_count": 57,
   "metadata": {},
   "outputs": [],
   "source": [
    "# Pycodestyle\n",
    "\"\"\"kalkulator\"\"\"\n",
    " \n",
    "class Kalkulator:\n",
    "    \"\"\"kalkulator tambah kurang\"\"\"\n",
    "    def __init__(self, _i):\n",
    "        self.i = _i\n",
    " \n",
    "    def tambah(self, _i): return self.i + _i\n",
    " \n",
    "    def kurang(self, _i):\n",
    "        return self.i - _i"
   ]
  },
  {
   "cell_type": "code",
   "execution_count": 58,
   "metadata": {},
   "outputs": [
    {
     "name": "stdout",
     "output_type": "stream",
     "text": [
      "1 - Got a true expression value\n",
      "100\n"
     ]
    }
   ],
   "source": [
    "# Branching\n",
    "var1 = 100\n",
    "if var1:\n",
    "   print (\"1 - Got a true expression value\")\n",
    "   print (var1)\n",
    "var2 = 0\n",
    "if var2:\n",
    "   print (\"2 - Got a true expression value\")\n",
    "   print (var2)"
   ]
  },
  {
   "cell_type": "code",
   "execution_count": 59,
   "metadata": {},
   "outputs": [
    {
     "name": "stdout",
     "output_type": "stream",
     "text": [
      "Enter amount: 60000\n",
      "Discount 9000.0\n",
      "Net payable: 51000.0\n"
     ]
    }
   ],
   "source": [
    "# Switch/Case Alternative\n",
    "amount = int(input(\"Enter amount: \"))\n",
    "if amount<1000:\n",
    "   discount = amount*0.05\n",
    "   print (\"Discount\",discount)\n",
    "elif amount<5000:\n",
    "   discount = amount*0.10\n",
    "   print (\"Discount\",discount)\n",
    "else:\n",
    "   discount = amount*0.15\n",
    "   print (\"Discount\",discount)\n",
    "print (\"Net payable:\",amount-discount)"
   ]
  },
  {
   "cell_type": "code",
   "execution_count": 60,
   "metadata": {},
   "outputs": [
    {
     "name": "stdout",
     "output_type": "stream",
     "text": [
      "Current Letter: P\n",
      "Current Letter: y\n",
      "Current Letter: t\n",
      "Current Letter: h\n",
      "Current Letter: o\n",
      "Current Letter: n\n",
      "Current fruit: banana\n",
      "Current fruit: apple\n",
      "Current fruit: mango\n"
     ]
    }
   ],
   "source": [
    "# For\n",
    "for letter in 'Python':  # First Example\n",
    "    print('Current Letter: {}'.format(letter))\n",
    "fruits = ['banana', 'apple', 'mango']\n",
    "for fruit in fruits:  # Second Example\n",
    "    print('Current fruit: {}'.format(fruit))"
   ]
  },
  {
   "cell_type": "code",
   "execution_count": 61,
   "metadata": {},
   "outputs": [
    {
     "name": "stdout",
     "output_type": "stream",
     "text": [
      "The count is: 0\n",
      "The count is: 1\n",
      "The count is: 2\n",
      "The count is: 3\n",
      "The count is: 4\n"
     ]
    }
   ],
   "source": [
    "# While\n",
    "count = 0\n",
    "while (count < 5):\n",
    "    print('The count is: {}'.format(count))\n",
    "    count = count + 1"
   ]
  },
  {
   "cell_type": "code",
   "execution_count": 62,
   "metadata": {},
   "outputs": [
    {
     "name": "stdout",
     "output_type": "stream",
     "text": [
      "Current variable value: 10\n",
      "Current variable value: 9\n",
      "Current variable value: 8\n",
      "Current variable value: 7\n",
      "Current variable value: 6\n"
     ]
    }
   ],
   "source": [
    "# Break\n",
    "var = 10                    # Second Example\n",
    "while var > 0:             \n",
    "    print('Current variable value: {}'.format(var))\n",
    "    var = var - 1\n",
    "    if var == 5:\n",
    "        break"
   ]
  },
  {
   "cell_type": "code",
   "execution_count": 63,
   "metadata": {},
   "outputs": [
    {
     "name": "stdout",
     "output_type": "stream",
     "text": [
      "Current variable value: 9\n",
      "Current variable value: 8\n",
      "Current variable value: 7\n",
      "Current variable value: 6\n",
      "Current variable value: 4\n",
      "Current variable value: 3\n",
      "Current variable value: 2\n",
      "Current variable value: 1\n",
      "Current variable value: 0\n"
     ]
    }
   ],
   "source": [
    "# Continue\n",
    "var = 10                    # Third Example\n",
    "while var > 0:             \n",
    "    var = var -1\n",
    "    if var == 5:\n",
    "        continue\n",
    "    print('Current variable value: {}'.format(var))"
   ]
  },
  {
   "cell_type": "code",
   "execution_count": 64,
   "metadata": {},
   "outputs": [
    {
     "name": "stdout",
     "output_type": "stream",
     "text": [
      "2 is a prime number\n",
      "3 is a prime number\n",
      "4 equals 2 * 2.0\n",
      "5 is a prime number\n",
      "6 equals 2 * 3.0\n",
      "7 is a prime number\n",
      "8 equals 2 * 4.0\n",
      "9 equals 3 * 3.0\n"
     ]
    }
   ],
   "source": [
    "# Else after For\n",
    "for n in range(2, 10):\n",
    "    for x in range(2, n):\n",
    "        if n % x == 0:\n",
    "            print( n, 'equals', x, '*', n/x)\n",
    "            break\n",
    "    else:\n",
    "        # loop fell through without finding a factor\n",
    "        print(n, 'is a prime number')"
   ]
  },
  {
   "cell_type": "code",
   "execution_count": 65,
   "metadata": {},
   "outputs": [
    {
     "name": "stdout",
     "output_type": "stream",
     "text": [
      "4\n",
      "3\n"
     ]
    }
   ],
   "source": [
    "# Else after While\n",
    "n = 5\n",
    "while n > 0:\n",
    "    n = n - 1\n",
    "    if n == 2:\n",
    "        break\n",
    "    print(n)\n",
    "else:\n",
    "    print(\"Loop is finished\")"
   ]
  },
  {
   "cell_type": "code",
   "execution_count": 66,
   "metadata": {},
   "outputs": [
    {
     "name": "stdout",
     "output_type": "stream",
     "text": [
      "Current letter: P\n",
      "Current letter: y\n",
      "Current letter: t\n",
      "This is pass block\n",
      "Current letter: h\n",
      "Current letter: o\n",
      "Current letter: n\n"
     ]
    }
   ],
   "source": [
    "# Pass\n",
    "for letter in 'Python':\n",
    "    if letter == 'h':\n",
    "        pass\n",
    "        print (\"This is pass block\")\n",
    "    print('Current letter: {}'.format(letter))"
   ]
  },
  {
   "cell_type": "code",
   "execution_count": 67,
   "metadata": {},
   "outputs": [
    {
     "name": "stdout",
     "output_type": "stream",
     "text": [
      "[1, 4, 9, 16]\n"
     ]
    }
   ],
   "source": [
    "# List Comprehension\n",
    "numbers = [1, 2, 3, 4]\n",
    "squares = [n**2 for n in numbers]\n",
    "print(squares)"
   ]
  },
  {
   "cell_type": "code",
   "execution_count": 68,
   "metadata": {},
   "outputs": [
    {
     "name": "stdout",
     "output_type": "stream",
     "text": [
      "[2, 3, 4]\n"
     ]
    }
   ],
   "source": [
    "# List Comprehension [2]\n",
    "list_a = [1, 2, 3, 4]\n",
    "list_b = [2, 3, 4, 5]\n",
    "common_num = []\n",
    "for a in list_a:\n",
    "  for b in list_b:\n",
    "    if a == b:\n",
    "      common_num.append(a)\n",
    "     \n",
    "print(common_num)  # Output [2, 3, 4]"
   ]
  },
  {
   "cell_type": "code",
   "execution_count": 69,
   "metadata": {},
   "outputs": [
    {
     "name": "stdout",
     "output_type": "stream",
     "text": [
      "[2, 3, 4]\n"
     ]
    }
   ],
   "source": [
    "# List Comprehension [3]\n",
    "list_a = [1, 2, 3, 4]\n",
    "list_b = [2, 3, 4, 5]\n",
    "common_num = [a for a in list_a for b in list_b if a == b]\n",
    "print(common_num) # Output: [2, 3, 4]"
   ]
  },
  {
   "cell_type": "code",
   "execution_count": 70,
   "metadata": {},
   "outputs": [
    {
     "name": "stdout",
     "output_type": "stream",
     "text": [
      "Inside the function: 30\n",
      "Outside the function: 30\n"
     ]
    }
   ],
   "source": [
    "# Return\n",
    "def sum(arg1, arg2):\n",
    "    # Add both the parameters and return them.\n",
    "    total = arg1 + arg2\n",
    "    print('Inside the function: {}'.format(total))\n",
    "    return total\n",
    "# Panggil sum\n",
    "total = sum(10, 20);\n",
    "print('Outside the function: {}'.format(total))"
   ]
  },
  {
   "cell_type": "code",
   "execution_count": 71,
   "metadata": {},
   "outputs": [
    {
     "name": "stdout",
     "output_type": "stream",
     "text": [
      "Nilai di dalam fungsi: [10, 20, 30, [1, 2, 3, 4]]\n",
      "Nilai di luar fungsi: [10, 20, 30, [1, 2, 3, 4]]\n"
     ]
    }
   ],
   "source": [
    "# Pass by Referenc\n",
    "def changeme(mylist):\n",
    "    mylist.append([1, 2, 3, 4])\n",
    "    print('Nilai di dalam fungsi: {}'.format(mylist))\n",
    " \n",
    "# Panggil changeme\n",
    "mylist = [10, 20, 30]\n",
    "changeme(mylist)\n",
    "print('Nilai di luar fungsi: {}'.format(mylist))"
   ]
  },
  {
   "cell_type": "code",
   "execution_count": 73,
   "metadata": {},
   "outputs": [
    {
     "name": "stdout",
     "output_type": "stream",
     "text": [
      "Name:  Dicoding\n",
      "Age:  5\n",
      "Name:  Data\n",
      "Age:  35\n"
     ]
    }
   ],
   "source": [
    "# Default Argument\n",
    "def printinfo(name, age=35):\n",
    "   \"This prints a passed info into this function\"\n",
    "   print('Name: ', name)\n",
    "   print ('Age: ', age)\n",
    " \n",
    "# Now you can call printinfo function (with optional argument age)\n",
    "printinfo(age=5, name='Dicoding')\n",
    "printinfo(name='Data')"
   ]
  },
  {
   "cell_type": "code",
   "execution_count": 74,
   "metadata": {},
   "outputs": [
    {
     "name": "stdout",
     "output_type": "stream",
     "text": [
      "Output: fixedarg 10\n",
      "Output: fixedarg 70\n",
      "argumen posisi 60\n",
      "argumen posisi 50\n"
     ]
    }
   ],
   "source": [
    "# Variable-length Arguments\n",
    "def printinfo(fixedarg, *args):\n",
    "    \"This prints a variable passed arguments\"\n",
    "    print('Output: fixedarg {}'.format(fixedarg))\n",
    "    for a in args:\n",
    "        print('argumen posisi {}'.format(a))\n",
    " \n",
    "# Panggil printinfo \n",
    "printinfo(10)\n",
    "printinfo(70, 60, 50)"
   ]
  },
  {
   "cell_type": "code",
   "execution_count": 75,
   "metadata": {},
   "outputs": [
    {
     "name": "stdout",
     "output_type": "stream",
     "text": [
      "Inside the function local total:  30\n",
      "Outside the function (global) total:  30\n"
     ]
    }
   ],
   "source": [
    "total = 0  # This is global variable.\n",
    "# fungsi didefinisikan di bawah ini\n",
    "def sum(arg1, arg2):\n",
    "    global total\n",
    "    total = arg1 + arg2 # variabel lokal total\n",
    "    print('Inside the function local total: ', total)\n",
    "    return total\n",
    " \n",
    "sum(10, 20)\n",
    "print('Outside the function (global) total: ', total)\n"
   ]
  },
  {
   "cell_type": "code",
   "execution_count": 76,
   "metadata": {},
   "outputs": [],
   "source": [
    "# Class\n",
    "def world():\n",
    "    print(\"Hello, World!\")\n",
    "nama = \"Dicoding\"\n",
    "class Reviewer:\n",
    "    def __init__(self, nama, kelas):\n",
    "        self.nama = nama\n",
    "        self.kelas = kelas\n",
    "    def review(self):\n",
    "        print(\"Reviewer \" + self.nama + \" bertanggung jawab di kelas \" + self.kelas)"
   ]
  },
  {
   "cell_type": "code",
   "execution_count": 77,
   "metadata": {},
   "outputs": [],
   "source": [
    "class KalkulatorTambah(Kalkulator):\n",
    "    \"\"\"contoh mewarisi kelas kalkulator sederhana\"\"\"\n",
    " \n",
    "    def tambah_angka(self, angka1, angka2):\n",
    "        if angka1 + angka2 <= 9:  # fitur ini sudah oke di kelas dasar, gunakan yang ada saja\n",
    "            super().tambah_angka(angka1, angka2)  # panggil fungsi dari Kalkulator lalu isi nilai\n",
    "        else:  # ini adalah fitur baru yang ingin diperbaiki dari keterbatasan kelas dasar\n",
    "            self.nilai = angka1 + angka2\n",
    "        return self.nilai\n"
   ]
  },
  {
   "cell_type": "code",
   "execution_count": 79,
   "metadata": {},
   "outputs": [
    {
     "name": "stdout",
     "output_type": "stream",
     "text": [
      "<class 'float'>\n"
     ]
    }
   ],
   "source": [
    "a = 5.5\n",
    "print(type(a))"
   ]
  },
  {
   "cell_type": "code",
   "execution_count": 81,
   "metadata": {},
   "outputs": [
    {
     "data": {
      "text/plain": [
       "'o'"
      ]
     },
     "execution_count": 81,
     "metadata": {},
     "output_type": "execute_result"
    }
   ],
   "source": [
    "d = \"Dicoding\"\n",
    "d[3]"
   ]
  },
  {
   "cell_type": "code",
   "execution_count": 82,
   "metadata": {},
   "outputs": [
    {
     "data": {
      "text/plain": [
       "'00300'"
      ]
     },
     "execution_count": 82,
     "metadata": {},
     "output_type": "execute_result"
    }
   ],
   "source": [
    "x = 300\n",
    "str(x).zfill(5)"
   ]
  },
  {
   "cell_type": "code",
   "execution_count": 83,
   "metadata": {},
   "outputs": [
    {
     "name": "stdout",
     "output_type": "stream",
     "text": [
      "Output: y\n",
      "Output: t\n",
      "Output: h\n",
      "Output: o\n",
      "Output: n\n"
     ]
    }
   ],
   "source": [
    "for letter in 'Python':\n",
    "    if letter.isupper():\n",
    "        pass  \n",
    "    else:\n",
    "        print('Output: {}'.format(letter))\n"
   ]
  },
  {
   "cell_type": "code",
   "execution_count": 84,
   "metadata": {},
   "outputs": [],
   "source": [
    "class Kalkulator:\n",
    " \n",
    "    def __init__(self, nilai=0):\n",
    "        self.nilai = nilai\n",
    " \n",
    "    def tambah_angka(self, angka1, angka2):\n",
    "        self.nilai = angka1 + angka2\n",
    "        if self.nilai > 9:             \n",
    "            print('kalkulator sederhana melebihi batas angka: {}'.format(self.nilai))\n",
    "        return self.nilai\n",
    "\n",
    "class KalkulatorKurang:\n",
    " \n",
    "    def kali_angka(self, angka1, angka2):\n",
    "        self.nilai = angka2 - angka1\n",
    "        return self.nilai\n"
   ]
  }
 ],
 "metadata": {
  "kernelspec": {
   "display_name": "Python 3",
   "language": "python",
   "name": "python3"
  },
  "language_info": {
   "codemirror_mode": {
    "name": "ipython",
    "version": 3
   },
   "file_extension": ".py",
   "mimetype": "text/x-python",
   "name": "python",
   "nbconvert_exporter": "python",
   "pygments_lexer": "ipython3",
   "version": "3.7.1"
  }
 },
 "nbformat": 4,
 "nbformat_minor": 2
}
